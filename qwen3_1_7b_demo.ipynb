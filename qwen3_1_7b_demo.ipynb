{
  "nbformat": 4,
  "nbformat_minor": 0,
  "metadata": {
    "colab": {
      "provenance": [],
      "gpuType": "T4",
      "authorship_tag": "ABX9TyOz1zQ8mKt5OzrcXjFDGc3V",
      "include_colab_link": true
    },
    "kernelspec": {
      "name": "python3",
      "display_name": "Python 3"
    },
    "language_info": {
      "name": "python"
    },
    "accelerator": "GPU"
  },
  "cells": [
    {
      "cell_type": "markdown",
      "metadata": {
        "id": "view-in-github",
        "colab_type": "text"
      },
      "source": [
        "<a href=\"https://colab.research.google.com/github/JJ-Pineda/simple_ai_demos/blob/main/qwen3_1_7b_demo.ipynb\" target=\"_parent\"><img src=\"https://colab.research.google.com/assets/colab-badge.svg\" alt=\"Open In Colab\"/></a>"
      ]
    },
    {
      "cell_type": "code",
      "source": [
        "!pip install bitsandbytes==0.47.0"
      ],
      "metadata": {
        "collapsed": true,
        "id": "PqJjvd4r_Jkv"
      },
      "execution_count": 4,
      "outputs": []
    },
    {
      "cell_type": "code",
      "execution_count": 3,
      "metadata": {
        "id": "smzuGXAl0Srf"
      },
      "outputs": [],
      "source": [
        "import torch\n",
        "from transformers import AutoModelForCausalLM, AutoTokenizer, BitsAndBytesConfig\n"
      ]
    },
    {
      "cell_type": "code",
      "source": [
        "bnb_config = BitsAndBytesConfig(\n",
        "    load_in_4bit=True,\n",
        "    bnb_4bit_compute_dtype=torch.bfloat16,\n",
        "    bnb_4bit_quant_type='nf4',\n",
        "    bnb_4bit_use_double_quant=True\n",
        ")\n",
        "\n",
        "qwen = AutoModelForCausalLM.from_pretrained(\n",
        "    'Qwen/Qwen3-1.7B',\n",
        "    torch_dtype=None,\n",
        "    quantization_config=bnb_config,\n",
        "    device_map='cuda'\n",
        ")\n",
        "\n",
        "tokenizer = AutoTokenizer.from_pretrained('Qwen/Qwen3-1.7B')\n"
      ],
      "metadata": {
        "id": "lNGjRG-v0XqE"
      },
      "execution_count": 2,
      "outputs": []
    },
    {
      "cell_type": "code",
      "source": [
        "my_message = 'Why is the meaning of life?'\n",
        "\n",
        "input_ids = tokenizer.apply_chat_template(\n",
        "    [[{'role': 'user', 'content': my_message}]],\n",
        "    add_generation_prompt=True,\n",
        "    enable_thinking=False,\n",
        "    return_tensors='pt'\n",
        ").to('cuda')\n",
        "\n",
        "results = qwen.generate(\n",
        "    input_ids,\n",
        "    attention_mask=input_ids == input_ids,\n",
        "    max_new_tokens=200,\n",
        "    temperature=0.6,\n",
        "    top_p=0.95,\n",
        "    top_k=20\n",
        ")\n",
        "\n",
        "response = results[:, input_ids.shape[1]:]\n",
        "\n",
        "print(tokenizer.batch_decode(response)[0])\n"
      ],
      "metadata": {
        "id": "_oFplB2q0qwN"
      },
      "execution_count": 1,
      "outputs": []
    },
    {
      "cell_type": "code",
      "source": [],
      "metadata": {
        "id": "QRMyKnw3W29z"
      },
      "execution_count": null,
      "outputs": []
    }
  ]
}